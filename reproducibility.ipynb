{
 "cells": [
  {
   "cell_type": "code",
   "execution_count": 1,
   "id": "a7d8f660",
   "metadata": {},
   "outputs": [],
   "source": [
    "import numpy as np\n",
    "import matplotlib.pyplot as plt\n",
    "import pandas as pd\n",
    "import seaborn as sns\n",
    "import timeit\n",
    "\n",
    "from numpy import genfromtxt\n",
    "\n",
    "from sklearn.model_selection import LeaveOneOut\n",
    "\n",
    "from sklearn import svm\n",
    "from sklearn.ensemble import GradientBoostingClassifier\n",
    "from sklearn.ensemble import RandomForestClassifier\n",
    "from sklearn import neighbors\n",
    "from sklearn.naive_bayes import GaussianNB"
   ]
  },
  {
   "cell_type": "markdown",
   "id": "64ea4c63",
   "metadata": {},
   "source": [
    "### From the test_acc.csv (edited from the results obtained from timeseriesclassification.com) and the features extracted from the training datasets using tsfresh (use the run_pre_tsfresh.sh to obtain it), we organize the meta-data in this section."
   ]
  },
  {
   "cell_type": "code",
   "execution_count": 2,
   "id": "a4f7ed7c",
   "metadata": {},
   "outputs": [
    {
     "data": {
      "text/html": [
       "<div>\n",
       "<style scoped>\n",
       "    .dataframe tbody tr th:only-of-type {\n",
       "        vertical-align: middle;\n",
       "    }\n",
       "\n",
       "    .dataframe tbody tr th {\n",
       "        vertical-align: top;\n",
       "    }\n",
       "\n",
       "    .dataframe thead th {\n",
       "        text-align: right;\n",
       "    }\n",
       "</style>\n",
       "<table border=\"1\" class=\"dataframe\">\n",
       "  <thead>\n",
       "    <tr style=\"text-align: right;\">\n",
       "      <th></th>\n",
       "      <th>TESTACC</th>\n",
       "      <th>ROCKET</th>\n",
       "      <th>ResNet</th>\n",
       "      <th>WEASEL</th>\n",
       "      <th>BOSS</th>\n",
       "      <th>S-BOSS</th>\n",
       "      <th>ProximityForest</th>\n",
       "      <th>InceptionTime</th>\n",
       "      <th>TS-CHIEF</th>\n",
       "      <th>STC</th>\n",
       "      <th>HIVE-COTE v1.0</th>\n",
       "    </tr>\n",
       "  </thead>\n",
       "  <tbody>\n",
       "    <tr>\n",
       "      <th>0</th>\n",
       "      <td>ACSF1</td>\n",
       "      <td>0.807000</td>\n",
       "      <td>0.824000</td>\n",
       "      <td>0.818000</td>\n",
       "      <td>0.768333</td>\n",
       "      <td>0.815000</td>\n",
       "      <td>0.638333</td>\n",
       "      <td>0.826667</td>\n",
       "      <td>0.807000</td>\n",
       "      <td>0.838333</td>\n",
       "      <td>0.850000</td>\n",
       "    </tr>\n",
       "    <tr>\n",
       "      <th>1</th>\n",
       "      <td>Adiac</td>\n",
       "      <td>0.771952</td>\n",
       "      <td>0.815431</td>\n",
       "      <td>0.798806</td>\n",
       "      <td>0.749020</td>\n",
       "      <td>0.742711</td>\n",
       "      <td>0.722165</td>\n",
       "      <td>0.822080</td>\n",
       "      <td>0.779710</td>\n",
       "      <td>0.793180</td>\n",
       "      <td>0.796249</td>\n",
       "    </tr>\n",
       "    <tr>\n",
       "      <th>2</th>\n",
       "      <td>ArrowHead</td>\n",
       "      <td>0.859048</td>\n",
       "      <td>0.858667</td>\n",
       "      <td>0.848381</td>\n",
       "      <td>0.868762</td>\n",
       "      <td>0.887810</td>\n",
       "      <td>0.883619</td>\n",
       "      <td>0.880381</td>\n",
       "      <td>0.881143</td>\n",
       "      <td>0.806667</td>\n",
       "      <td>0.876000</td>\n",
       "    </tr>\n",
       "    <tr>\n",
       "      <th>3</th>\n",
       "      <td>Beef</td>\n",
       "      <td>0.760000</td>\n",
       "      <td>0.676667</td>\n",
       "      <td>0.740000</td>\n",
       "      <td>0.612222</td>\n",
       "      <td>0.655556</td>\n",
       "      <td>0.594444</td>\n",
       "      <td>0.682222</td>\n",
       "      <td>0.632222</td>\n",
       "      <td>0.735556</td>\n",
       "      <td>0.735556</td>\n",
       "    </tr>\n",
       "    <tr>\n",
       "      <th>4</th>\n",
       "      <td>BeetleFly</td>\n",
       "      <td>0.885000</td>\n",
       "      <td>0.853333</td>\n",
       "      <td>0.886667</td>\n",
       "      <td>0.943333</td>\n",
       "      <td>0.936667</td>\n",
       "      <td>0.860000</td>\n",
       "      <td>0.893333</td>\n",
       "      <td>0.958333</td>\n",
       "      <td>0.933333</td>\n",
       "      <td>0.963333</td>\n",
       "    </tr>\n",
       "  </tbody>\n",
       "</table>\n",
       "</div>"
      ],
      "text/plain": [
       "     TESTACC    ROCKET    ResNet    WEASEL      BOSS    S-BOSS  \\\n",
       "0      ACSF1  0.807000  0.824000  0.818000  0.768333  0.815000   \n",
       "1      Adiac  0.771952  0.815431  0.798806  0.749020  0.742711   \n",
       "2  ArrowHead  0.859048  0.858667  0.848381  0.868762  0.887810   \n",
       "3       Beef  0.760000  0.676667  0.740000  0.612222  0.655556   \n",
       "4  BeetleFly  0.885000  0.853333  0.886667  0.943333  0.936667   \n",
       "\n",
       "   ProximityForest  InceptionTime  TS-CHIEF       STC  HIVE-COTE v1.0  \n",
       "0         0.638333       0.826667  0.807000  0.838333        0.850000  \n",
       "1         0.722165       0.822080  0.779710  0.793180        0.796249  \n",
       "2         0.883619       0.880381  0.881143  0.806667        0.876000  \n",
       "3         0.594444       0.682222  0.632222  0.735556        0.735556  \n",
       "4         0.860000       0.893333  0.958333  0.933333        0.963333  "
      ]
     },
     "execution_count": 2,
     "metadata": {},
     "output_type": "execute_result"
    }
   ],
   "source": [
    "test_acc = pd.read_csv('test_acc.csv')\n",
    "test_acc.head()"
   ]
  },
  {
   "cell_type": "code",
   "execution_count": 3,
   "id": "baf0bf0b",
   "metadata": {},
   "outputs": [],
   "source": [
    "ds_metafeatures = np.empty([test_acc.shape[0],2])\n",
    "\n",
    "i = 0;\n",
    "for data_name in test_acc[\"TESTACC\"]:\n",
    "    file_path = \"./data/\" + data_name + \"/\" + data_name + \"_TRAIN.tsv\"\n",
    "    data = genfromtxt(file_path, delimiter='\\t')\n",
    "    ds_metafeatures[i][0] = data.shape[0]\n",
    "    ds_metafeatures[i][1] = len(np.unique(data[:,0]))\n",
    "    i += 1"
   ]
  },
  {
   "cell_type": "code",
   "execution_count": 4,
   "id": "fb683e3a",
   "metadata": {},
   "outputs": [],
   "source": [
    "y = np.array(test_acc.drop('TESTACC',axis=1)).argmax(axis=1)+1 # meta-targets"
   ]
  },
  {
   "cell_type": "code",
   "execution_count": 5,
   "id": "d8301615",
   "metadata": {
    "scrolled": true
   },
   "outputs": [
    {
     "name": "stdout",
     "output_type": "stream",
     "text": [
      "Adiac\n",
      "ArrowHead\n",
      "Beef\n",
      "BeetleFly\n",
      "BirdChicken\n",
      "BME\n",
      "Car\n",
      "CBF\n",
      "Chinatown\n",
      "ChlorineConcentration\n",
      "CinCECGTorso\n",
      "Coffee\n",
      "Computers\n",
      "CricketX\n",
      "CricketY\n",
      "CricketZ\n",
      "Crop\n",
      "DiatomSizeReduction\n",
      "DistalPhalanxOutlineAgeGroup\n",
      "DistalPhalanxOutlineCorrect\n",
      "DistalPhalanxTW\n",
      "Earthquakes\n",
      "ECG200\n",
      "ECG5000\n",
      "ECGFiveDays\n",
      "ElectricDevices\n",
      "EOGHorizontalSignal\n",
      "EOGVerticalSignal\n",
      "EthanolLevel\n",
      "FaceAll\n",
      "FaceFour\n",
      "FacesUCR\n",
      "FiftyWords\n",
      "Fish\n",
      "FordA\n",
      "FreezerRegularTrain\n",
      "FreezerSmallTrain\n",
      "GunPoint\n",
      "GunPointAgeSpan\n",
      "GunPointMaleVersusFemale\n",
      "GunPointOldVersusYoung\n",
      "Ham\n",
      "Haptics\n",
      "Herring\n",
      "HouseTwenty\n",
      "InlineSkate\n",
      "InsectEPGRegularTrain\n",
      "InsectEPGSmallTrain\n",
      "InsectWingbeatSound\n",
      "ItalyPowerDemand\n",
      "LargeKitchenAppliances\n",
      "Lightning2\n",
      "Lightning7\n",
      "Mallat\n",
      "Meat\n",
      "MedicalImages\n",
      "MiddlePhalanxOutlineAgeGroup\n",
      "MiddlePhalanxOutlineCorrect\n",
      "MiddlePhalanxTW\n",
      "MixedShapesRegularTrain\n",
      "MixedShapesSmallTrain\n",
      "MoteStrain\n",
      "OliveOil\n",
      "OSULeaf\n",
      "PhalangesOutlinesCorrect\n",
      "Phoneme\n",
      "PigAirwayPressure\n",
      "PigArtPressure\n",
      "PigCVP\n",
      "Plane\n",
      "PowerCons\n",
      "ProximalPhalanxOutlineAgeGroup\n",
      "ProximalPhalanxOutlineCorrect\n",
      "ProximalPhalanxTW\n",
      "RefrigerationDevices\n",
      "Rock\n",
      "ScreenType\n",
      "SemgHandGenderCh2\n",
      "SemgHandMovementCh2\n",
      "SemgHandSubjectCh2\n",
      "ShapeletSim\n",
      "ShapesAll\n",
      "SmallKitchenAppliances\n",
      "SmoothSubspace\n",
      "SonyAIBORobotSurface1\n",
      "SonyAIBORobotSurface2\n",
      "StarLightCurves\n",
      "Strawberry\n",
      "SwedishLeaf\n",
      "Symbols\n",
      "SyntheticControl\n",
      "ToeSegmentation1\n",
      "ToeSegmentation2\n",
      "Trace\n",
      "TwoLeadECG\n",
      "TwoPatterns\n",
      "UMD\n",
      "UWaveGestureLibraryAll\n",
      "UWaveGestureLibraryX\n",
      "UWaveGestureLibraryY\n",
      "UWaveGestureLibraryZ\n",
      "Wafer\n",
      "Wine\n",
      "WordSynonyms\n",
      "Worms\n",
      "WormsTwoClass\n",
      "Yoga\n"
     ]
    }
   ],
   "source": [
    "this_feature_set = pd.read_csv('tsfresh/' + test_acc['TESTACC'][0] + '_TRAIN.csv').drop(labels=[\"Unnamed: 0\"],axis=1)\n",
    "this_feature_set = np.hstack([this_feature_set.mean(axis=0),this_feature_set.std(axis=0),\n",
    "                     ds_metafeatures[0,0],ds_metafeatures[0,1]])\n",
    "\n",
    "X = np.empty([test_acc.shape[0],this_feature_set.shape[0]])\n",
    "X[0] = this_feature_set\n",
    "\n",
    "for i in range(1,len(y)):\n",
    "    \n",
    "    dataset = test_acc['TESTACC'][i]\n",
    "    print(dataset)\n",
    "    \n",
    "    this_feature_set = pd.read_csv('tsfresh/' + dataset + '_TRAIN.csv').drop(labels=[\"Unnamed: 0\"],axis=1)\n",
    "    X[i] = np.hstack([this_feature_set.mean(axis=0),this_feature_set.std(axis=0),\n",
    "                     ds_metafeatures[i,0],ds_metafeatures[i,1]])"
   ]
  },
  {
   "cell_type": "code",
   "execution_count": 6,
   "id": "bacf0274",
   "metadata": {
    "scrolled": true
   },
   "outputs": [
    {
     "name": "stdout",
     "output_type": "stream",
     "text": [
      "152133.28465155655\n",
      "111.25358332253097\n",
      "136.46782097981787\n",
      "561.624196031997\n",
      "94.47168842822842\n",
      "69942.33733903148\n",
      "166.0271830874618\n",
      "456.34087322686355\n",
      "79.77157745851436\n",
      "8887.700616641092\n",
      "5.688140287194841\n",
      "5.68477222423102\n",
      "561.624196031997\n",
      "0.2750220036310431\n",
      "0.2736854715364625\n",
      "5.618765472686843\n",
      "5.588928066523034\n",
      "5.857066578162277\n",
      "43161.995692799224\n",
      "50.123188517685634\n",
      "51.06032702607718\n",
      "0.0\n",
      "20.553140531917215\n",
      "26757.629945552464\n",
      "52.67942088362869\n",
      "342.5161633573871\n",
      "43.407648148685425\n",
      "5058.752715405807\n",
      "3.397893625133619\n",
      "3.405485541291905\n",
      "0.0\n",
      "6.729880642467274e-10\n",
      "1.3317969504141668e-09\n",
      "3.420877466709632\n",
      "3.3852863697216757\n",
      "3.391241294175075\n",
      "1137.3290463798808\n",
      "11.733406986300816\n"
     ]
    }
   ],
   "source": [
    "for i in range(X.shape[1]):\n",
    "    print(np.std(X[:,i]))"
   ]
  },
  {
   "cell_type": "code",
   "execution_count": 7,
   "id": "77abaa35",
   "metadata": {},
   "outputs": [],
   "source": [
    "X = np.delete(X, np.where(np.std(X, axis=0) < 10e-5), axis = 1) # remove meta-attributes with low stdev"
   ]
  },
  {
   "cell_type": "code",
   "execution_count": 8,
   "id": "c7988f06",
   "metadata": {},
   "outputs": [],
   "source": [
    "np.savetxt(\"meta-attributes.csv\", X, delimiter=\",\")\n",
    "np.savetxt(\"meta-targets.csv\", y, delimiter=\",\")"
   ]
  },
  {
   "cell_type": "markdown",
   "id": "301b1dd1",
   "metadata": {},
   "source": [
    "### Start here if you already have extracted the meta-knowledge. "
   ]
  },
  {
   "cell_type": "code",
   "execution_count": 9,
   "id": "705f06a3",
   "metadata": {},
   "outputs": [],
   "source": [
    "# X = genfromtxt('meta-attributes.csv', delimiter=',')\n",
    "# y = genfromtxt('meta-targets.csv', delimiter=',')\n",
    "\n",
    "df = pd.DataFrame(X)\n",
    "X = df.replace([np.inf, -np.inf], np.nan).dropna(axis=1).to_numpy() #cleaning"
   ]
  },
  {
   "cell_type": "markdown",
   "id": "858bd8d4",
   "metadata": {},
   "source": [
    "#### Defining useful methods"
   ]
  },
  {
   "cell_type": "code",
   "execution_count": 10,
   "id": "5667b9f6",
   "metadata": {},
   "outputs": [],
   "source": [
    "def show_results(preds):\n",
    "    \n",
    "    test_acc = pd.read_csv('test_acc.csv')\n",
    "    topline = np.array(test_acc.drop('TESTACC',axis=1)).max(axis=1)\n",
    "    baseline = np.array(test_acc.drop('TESTACC',axis=1)).mean(axis=1)\n",
    "    \n",
    "    accs_meta = []\n",
    "    for i in range(len(preds)):\n",
    "        accs_meta.append(test_acc.iloc[i][int(preds[i])])\n",
    "        \n",
    "    sota = test_acc['ROCKET']\n",
    "    \n",
    "    print('Mean Acc (std):')\n",
    "    \n",
    "    print('Topline: ' + \"{:.4f}\".format(np.mean(topline)) +\n",
    "         '(' + \"{:.4f}\".format(np.std(topline)) + ')' + \n",
    "         ' - Median =' + \"{:.4f}\".format(np.median(topline)))\n",
    "    \n",
    "    print('MetaL: ' + \"{:.4f}\".format(np.mean(accs_meta)) +\n",
    "         '(' + \"{:.4f}\".format(np.std(accs_meta)) + ')' + \n",
    "         ' - Median =' + \"{:.4f}\".format(np.median(accs_meta)))\n",
    "    \n",
    "    print('ROCKET: ' + \"{:.4f}\".format(np.mean(sota)) +\n",
    "         '(' + \"{:.4f}\".format(np.std(sota)) + ')' + \n",
    "         ' - Median =' + \"{:.4f}\".format(np.median(sota)))\n",
    "    \n",
    "    print(' ')\n",
    "    \n",
    "    print('MetaL vs ROCKET')\n",
    "    print('MetaL Wins:' + str(np.sum(accs_meta > sota)))\n",
    "    print('MetaL Loses:' + str(np.sum(accs_meta < sota)))\n",
    "    print('Draws:' + str(np.sum(accs_meta == sota)))\n",
    "    \n",
    "    print(' ')\n",
    "    \n",
    "    print('MetaL vs topline')\n",
    "    print('MetaL Wins:' + str(np.sum(accs_meta > topline)))\n",
    "    print('MetaL Loses:' + str(np.sum(accs_meta < topline)))\n",
    "    print('Draws:' + str(np.sum(accs_meta == topline)))\n",
    "    \n",
    "    print(' ')\n",
    "    \n",
    "    print('MetaL vs baseline')\n",
    "    print('MetaL Wins:' + str(np.sum(accs_meta > baseline)))\n",
    "    print('MetaL Loses:' + str(np.sum(accs_meta < baseline)))\n",
    "    print('Draws:' + str(np.sum(accs_meta == baseline)))"
   ]
  },
  {
   "cell_type": "code",
   "execution_count": 11,
   "id": "71f784c1",
   "metadata": {},
   "outputs": [],
   "source": [
    "def run_metamodel(option='random_forest', random_state=42):\n",
    "    \n",
    "    preds = []\n",
    "    \n",
    "    loo = LeaveOneOut()\n",
    "    loo.get_n_splits(X)\n",
    "    \n",
    "    total_time = 0\n",
    "    \n",
    "    for train_index, test_index in loo.split(X):\n",
    "        \n",
    "        # print(\"TEST:\", test_index)\n",
    "        X_train, X_test = X[train_index], X[test_index]\n",
    "        y_train, y_test = y[train_index], y[test_index]\n",
    "        \n",
    "        if (option=='1nn'):\n",
    "            model = neighbors.KNeighborsClassifier(1)\n",
    "        elif (option=='5nn'):\n",
    "            model = neighbors.KNeighborsClassifier()\n",
    "        elif (option=='svm'):\n",
    "            model = svm.SVC()\n",
    "        elif (option=='gbc'):\n",
    "            model = GradientBoostingClassifier(random_state=random_state)\n",
    "        elif (option=='nb'):\n",
    "            model = GaussianNB()\n",
    "        else:\n",
    "            model = RandomForestClassifier(random_state=random_state)\n",
    "            \n",
    "        start = timeit.default_timer()\n",
    "        model.fit(X_train, y_train)\n",
    "        stop = timeit.default_timer()\n",
    "        total_time += stop - start\n",
    "        \n",
    "        y_hat = model.predict(X_test)\n",
    "        preds.append(y_hat)\n",
    "    \n",
    "    print('LOO runtime (seconds): ', total_time)\n",
    "    \n",
    "    return preds"
   ]
  },
  {
   "cell_type": "markdown",
   "id": "6eecf95e",
   "metadata": {},
   "source": [
    "#### Runing/training the metamodels"
   ]
  },
  {
   "cell_type": "code",
   "execution_count": 12,
   "id": "f897ab80",
   "metadata": {},
   "outputs": [
    {
     "name": "stdout",
     "output_type": "stream",
     "text": [
      "MetaL-CATS-1NN\n",
      "LOO runtime (seconds):  0.017649985995376483\n",
      "MetaL-CATS-5NN\n",
      "LOO runtime (seconds):  0.01678123400779441\n",
      "MetaL-CATS-SVM\n",
      "LOO runtime (seconds):  10.28770264598279\n",
      "MetaL-CATS-NB\n",
      "LOO runtime (seconds):  0.08937276396318339\n",
      "MetaL-CATS-RF (10 runs)\n",
      "RF: Random seed = 0\n",
      "LOO runtime (seconds):  11.408781083002395\n",
      "RF: Random seed = 1\n",
      "LOO runtime (seconds):  10.969846754982427\n",
      "RF: Random seed = 2\n",
      "LOO runtime (seconds):  11.472129324007255\n",
      "RF: Random seed = 3\n",
      "LOO runtime (seconds):  10.163225032985792\n",
      "RF: Random seed = 4\n",
      "LOO runtime (seconds):  10.373157451002044\n",
      "RF: Random seed = 5\n",
      "LOO runtime (seconds):  10.306925653931103\n",
      "RF: Random seed = 6\n",
      "LOO runtime (seconds):  10.101892440005031\n",
      "RF: Random seed = 7\n",
      "LOO runtime (seconds):  9.760554398009845\n",
      "RF: Random seed = 8\n",
      "LOO runtime (seconds):  9.799594435986364\n",
      "RF: Random seed = 9\n",
      "LOO runtime (seconds):  10.722339906969864\n"
     ]
    }
   ],
   "source": [
    "rf = []\n",
    "rf_fs = []\n",
    "\n",
    "\n",
    "print('MetaL-CATS-1NN')\n",
    "nn = run_metamodel(option='1nn')\n",
    "\n",
    "print('MetaL-CATS-5NN')\n",
    "knn = run_metamodel(option='5nn')\n",
    "\n",
    "print('MetaL-CATS-SVM')\n",
    "svc = run_metamodel(option='svc')\n",
    "\n",
    "print('MetaL-CATS-NB')\n",
    "nb = run_metamodel(option='nb')\n",
    "\n",
    "\n",
    "print('MetaL-CATS-RF (10 runs)')\n",
    "for i in range(10):\n",
    "    print('RF: Random seed = ' + str(i))\n",
    "    rf.append(run_metamodel(option='random_forest', random_state=i))"
   ]
  },
  {
   "cell_type": "code",
   "execution_count": 13,
   "id": "79e040a1",
   "metadata": {},
   "outputs": [],
   "source": [
    "'''\n",
    "run it if you are interested in saving the results\n",
    "'''\n",
    "np.save('rf.npy',rf)\n",
    "np.save('nn.npy',nn)\n",
    "np.save('knn.npy',knn)\n",
    "np.save('rsvc.npy',svc)\n",
    "np.save('nb.npy',nb)"
   ]
  },
  {
   "cell_type": "code",
   "execution_count": 14,
   "id": "9b785262",
   "metadata": {},
   "outputs": [
    {
     "data": {
      "text/plain": [
       "'\\nrun it if you are interested in strating from the saved results\\n'"
      ]
     },
     "execution_count": 14,
     "metadata": {},
     "output_type": "execute_result"
    }
   ],
   "source": [
    "'''\n",
    "run it if you are interested in strating from the saved results\n",
    "'''\n",
    "# np.save('rf.npy',rf)\n",
    "# np.save('nn.npy',nn)\n",
    "# np.save('knn.npy',knn)\n",
    "# np.save('svc.npy',svc)\n",
    "# np.save('nb.npy',nb)"
   ]
  },
  {
   "cell_type": "code",
   "execution_count": 15,
   "id": "42712bce",
   "metadata": {
    "scrolled": false
   },
   "outputs": [
    {
     "name": "stdout",
     "output_type": "stream",
     "text": [
      "------------\n",
      "1-nn\n",
      "\n",
      "Mean Acc (std):\n",
      "Topline: 0.8986(0.1129) - Median =0.9479\n",
      "MetaL: 0.8649(0.1465) - Median =0.9014\n",
      "ROCKET: 0.8640(0.1442) - Median =0.9070\n",
      " \n",
      "MetaL vs ROCKET\n",
      "MetaL Wins:45\n",
      "MetaL Loses:39\n",
      "Draws:24\n",
      " \n",
      "MetaL vs topline\n",
      "MetaL Wins:0\n",
      "MetaL Loses:81\n",
      "Draws:27\n",
      " \n",
      "MetaL vs baseline\n",
      "MetaL Wins:86\n",
      "MetaL Loses:21\n",
      "Draws:1\n",
      "------------\n",
      "5-nn\n",
      "\n",
      "Mean Acc (std):\n",
      "Topline: 0.8986(0.1129) - Median =0.9479\n",
      "MetaL: 0.8717(0.1310) - Median =0.9084\n",
      "ROCKET: 0.8640(0.1442) - Median =0.9070\n",
      " \n",
      "MetaL vs ROCKET\n",
      "MetaL Wins:35\n",
      "MetaL Loses:30\n",
      "Draws:43\n",
      " \n",
      "MetaL vs topline\n",
      "MetaL Wins:0\n",
      "MetaL Loses:78\n",
      "Draws:30\n",
      " \n",
      "MetaL vs baseline\n",
      "MetaL Wins:87\n",
      "MetaL Loses:20\n",
      "Draws:1\n",
      "------------\n",
      "Gaussian NB\n",
      "\n",
      "Mean Acc (std):\n",
      "Topline: 0.8986(0.1129) - Median =0.9479\n",
      "MetaL: 0.8612(0.1374) - Median =0.8987\n",
      "ROCKET: 0.8640(0.1442) - Median =0.9070\n",
      " \n",
      "MetaL vs ROCKET\n",
      "MetaL Wins:32\n",
      "MetaL Loses:73\n",
      "Draws:3\n",
      " \n",
      "MetaL vs topline\n",
      "MetaL Wins:0\n",
      "MetaL Loses:102\n",
      "Draws:6\n",
      " \n",
      "MetaL vs baseline\n",
      "MetaL Wins:64\n",
      "MetaL Loses:43\n",
      "Draws:1\n",
      "------------\n",
      "SVM\n",
      "\n",
      "Mean Acc (std):\n",
      "Topline: 0.8986(0.1129) - Median =0.9479\n",
      "MetaL: 0.8741(0.1326) - Median =0.9154\n",
      "ROCKET: 0.8640(0.1442) - Median =0.9070\n",
      " \n",
      "MetaL vs ROCKET\n",
      "MetaL Wins:48\n",
      "MetaL Loses:33\n",
      "Draws:27\n",
      " \n",
      "MetaL vs topline\n",
      "MetaL Wins:0\n",
      "MetaL Loses:78\n",
      "Draws:30\n",
      " \n",
      "MetaL vs baseline\n",
      "MetaL Wins:91\n",
      "MetaL Loses:16\n",
      "Draws:1\n",
      "------------\n",
      "RF (seed=0)\n",
      "\n",
      "Mean Acc (std):\n",
      "Topline: 0.8986(0.1129) - Median =0.9479\n",
      "MetaL: 0.8765(0.1289) - Median =0.9140\n",
      "ROCKET: 0.8640(0.1442) - Median =0.9070\n",
      " \n",
      "MetaL vs ROCKET\n",
      "MetaL Wins:49\n",
      "MetaL Loses:32\n",
      "Draws:27\n",
      " \n",
      "MetaL vs topline\n",
      "MetaL Wins:0\n",
      "MetaL Loses:76\n",
      "Draws:32\n",
      " \n",
      "MetaL vs baseline\n",
      "MetaL Wins:93\n",
      "MetaL Loses:14\n",
      "Draws:1\n",
      "------------\n"
     ]
    }
   ],
   "source": [
    "print('------------\\n1-nn\\n')\n",
    "show_results(nn)\n",
    "print('------------\\n5-nn\\n')\n",
    "show_results(knn)\n",
    "print('------------\\nGaussian NB\\n')\n",
    "show_results(nb)\n",
    "print('------------\\nSVM\\n')\n",
    "show_results(svc)\n",
    "print('------------\\nRF (seed=0)\\n')\n",
    "show_results(rf[0])\n",
    "print('------------')"
   ]
  },
  {
   "cell_type": "markdown",
   "id": "8d54743c",
   "metadata": {},
   "source": [
    "#### Comparative and ploting routines"
   ]
  },
  {
   "cell_type": "code",
   "execution_count": 16,
   "id": "78ad7f83",
   "metadata": {},
   "outputs": [],
   "source": [
    "topline = np.array(test_acc.drop('TESTACC',axis=1)).max(axis=1)\n",
    "baseline = np.array(test_acc.drop('TESTACC',axis=1)).mean(axis=1)\n",
    "worstcase = np.array(test_acc.drop('TESTACC',axis=1)).min(axis=1)\n",
    "\n",
    "ts_chief = test_acc['TS-CHIEF']\n",
    "hive_cote = test_acc['HIVE-COTE v1.0']\n",
    "rocket = test_acc['ROCKET']\n",
    "\n",
    "def get_accs(preds):\n",
    "    accs_meta = []\n",
    "    for i in range(len(preds)):\n",
    "        accs_meta.append(test_acc.iloc[i][int(preds[i])])\n",
    "        \n",
    "    return accs_meta"
   ]
  },
  {
   "cell_type": "code",
   "execution_count": 17,
   "id": "a3c21ead",
   "metadata": {},
   "outputs": [
    {
     "name": "stdout",
     "output_type": "stream",
     "text": [
      "0.8758346960345719\n",
      "0.1290165599040079\n",
      "0.9154320987654314\n",
      "TS-CHIEF vs MetaL-RF\n",
      "Wins:47\n",
      "Loses:51\n",
      "Draws:10\n"
     ]
    }
   ],
   "source": [
    "# to a better evaluation of RF\n",
    "rf_avg = np.zeros(108)\n",
    "for i in range(10):\n",
    "    rf_avg += get_accs(rf[i])\n",
    "rf_avg /= 10\n",
    "\n",
    "print(np.mean(rf_avg))\n",
    "print(np.std(rf_avg))\n",
    "print(np.median(rf_avg))\n",
    "print('TS-CHIEF vs MetaL-RF')\n",
    "print('Wins:' + str(np.sum(ts_chief > rf_avg)))\n",
    "print('Loses:' + str(np.sum(ts_chief < rf_avg)))\n",
    "print('Draws:' + str(np.sum(ts_chief == rf_avg)))"
   ]
  },
  {
   "cell_type": "code",
   "execution_count": 18,
   "id": "9ae598f7",
   "metadata": {},
   "outputs": [],
   "source": [
    "dicio = {\"Accuracy\" : np.hstack((baseline, get_accs(nn), \n",
    "                                 get_accs(knn), get_accs(nb),\n",
    "                                 rf_avg,get_accs(svc),\n",
    "                                 ts_chief,topline)).T,\n",
    "        \"Algorithm\" : np.hstack((\n",
    "                        [\"Baseline\"]*len(topline),\n",
    "                        [\"MetaL-CATS-1NN\"]*len(topline), \n",
    "                        [\"MetaL-CATS-5NN\"]*len(topline), \n",
    "                        [\"MetaL-CATS-NB\"]*len(topline),\n",
    "                        [\"MetaL-CATS-RF\"]*len(topline), \n",
    "                        [\"MetaL-CATS-SVM\"]*len(topline), \n",
    "                        [\"TS-CHIEF\"]*len(topline),\n",
    "                        [\"Topline\"]*len(topline)\n",
    "                                )).T}\n",
    "\n",
    "results = pd.DataFrame(dicio)"
   ]
  },
  {
   "cell_type": "code",
   "execution_count": 19,
   "id": "da87605c",
   "metadata": {},
   "outputs": [
    {
     "data": {
      "image/png": "[encoded data removed]",
      "text/plain": [
       "<Figure size 576x504 with 1 Axes>"
      ]
     },
     "metadata": {
      "needs_background": "light"
     },
     "output_type": "display_data"
    }
   ],
   "source": [
    "f = plt.figure(figsize=[8,7])\n",
    "sns.set_theme(style=\"whitegrid\")\n",
    "ax = sns.boxplot(x=\"Algorithm\", y=\"Accuracy\", data=results)\n",
    "plt.xticks(rotation=90)\n",
    "f.savefig(\"boxplot.pdf\")"
   ]
  },
  {
   "cell_type": "code",
   "execution_count": 20,
   "id": "9b6afd84",
   "metadata": {},
   "outputs": [],
   "source": [
    "dicio = {\"Accuracy\" : np.hstack((baseline, get_accs(nn), \n",
    "                                 get_accs(knn), get_accs(nb),\n",
    "                                 rf_avg,get_accs(svc),\n",
    "                                 ts_chief,topline)).T,\n",
    "        \"Algorithm\" : np.hstack((\n",
    "                        [\"Baseline\"]*len(topline),\n",
    "                        [\"MetaL-CATS-1NN\"]*len(topline), \n",
    "                        [\"MetaL-CATS-5NN\"]*len(topline), \n",
    "                        [\"MetaL-CATS-NB\"]*len(topline),\n",
    "                        [\"MetaL-CATS-RF\"]*len(topline), \n",
    "                        [\"MetaL-CATS-SVM\"]*len(topline), \n",
    "                        [\"ROCKET\"]*len(topline),\n",
    "                        [\"Topline\"]*len(topline)\n",
    "                                )).T}\n",
    "\n",
    "results = pd.DataFrame(dicio)"
   ]
  },
  {
   "cell_type": "code",
   "execution_count": 21,
   "id": "b54c4b95",
   "metadata": {},
   "outputs": [
    {
     "data": {
      "image/png": "[encoded data removed]",
      "text/plain": [
       "<Figure size 576x504 with 1 Axes>"
      ]
     },
     "metadata": {},
     "output_type": "display_data"
    }
   ],
   "source": [
    "f = plt.figure(figsize=[8,7])\n",
    "sns.set_theme(style=\"whitegrid\")\n",
    "ax = sns.boxplot(x=\"Algorithm\", y=\"Accuracy\", data=results)\n",
    "plt.xticks(rotation=90)\n",
    "f.savefig(\"boxplot_rocket.pdf\")"
   ]
  },
  {
   "cell_type": "code",
   "execution_count": 22,
   "id": "d62490a0",
   "metadata": {},
   "outputs": [
    {
     "name": "stdout",
     "output_type": "stream",
     "text": [
      "0.8781735034390735\n",
      "0.8757283866749672\n",
      "TS-CHIEF vs HIVE-COTE\n",
      "TS-CHIEF Wins:53\n",
      "Loses:49\n",
      "Draws:6\n"
     ]
    }
   ],
   "source": [
    "# TS-CHIEF vs HIVE-COTE\n",
    "print(hive_cote.mean())\n",
    "print(ts_chief.mean())\n",
    "\n",
    "print('TS-CHIEF vs HIVE-COTE')\n",
    "print('TS-CHIEF Wins:' + str(np.sum(ts_chief > hive_cote)))\n",
    "print('Loses:' + str(np.sum(ts_chief < hive_cote)))\n",
    "print('Draws:' + str(np.sum(ts_chief == hive_cote)))"
   ]
  },
  {
   "cell_type": "code",
   "execution_count": 23,
   "id": "7c8d5e71",
   "metadata": {},
   "outputs": [
    {
     "name": "stdout",
     "output_type": "stream",
     "text": [
      "0.8781735034390735\n",
      "0.8639965815485325\n",
      "ROCKET vs HIVE-COTE\n",
      "ROCKET Wins:57\n",
      "Loses:48\n",
      "Draws:3\n"
     ]
    }
   ],
   "source": [
    "# ROCKET vs HIVE-COTE\n",
    "print(hive_cote.mean())\n",
    "print(rocket.mean())\n",
    "\n",
    "print('ROCKET vs HIVE-COTE')\n",
    "print('ROCKET Wins:' + str(np.sum(rocket > hive_cote)))\n",
    "print('Loses:' + str(np.sum(rocket < hive_cote)))\n",
    "print('Draws:' + str(np.sum(rocket == hive_cote)))"
   ]
  },
  {
   "cell_type": "code",
   "execution_count": 24,
   "id": "2cb3997f",
   "metadata": {},
   "outputs": [
    {
     "name": "stdout",
     "output_type": "stream",
     "text": [
      "0.8741007041736609\n",
      "0.8781735034390735\n",
      "TS-CHIEF vs MetaL-SVM\n",
      "TS-CHIEF Wins:31\n",
      "TS-CHIEFLoses:40\n",
      "Draws:37\n"
     ]
    }
   ],
   "source": [
    "svc_acc = get_accs(svc)\n",
    "print(np.mean(svc_acc))\n",
    "print(hive_cote.mean())\n",
    "print('TS-CHIEF vs MetaL-SVM')\n",
    "print('TS-CHIEF Wins:' + str(np.sum(ts_chief > svc_acc)))\n",
    "print('TS-CHIEFLoses:' + str(np.sum(ts_chief < svc_acc)))\n",
    "print('Draws:' + str(np.sum(ts_chief == svc_acc)))"
   ]
  },
  {
   "cell_type": "code",
   "execution_count": 25,
   "id": "adc26282",
   "metadata": {},
   "outputs": [
    {
     "name": "stdout",
     "output_type": "stream",
     "text": [
      "0.8741007041736609\n",
      "0.8639965815485325\n",
      "ROCKET vs MetaL-SVM\n",
      "ROCKET Wins:33\n",
      "ROCKET Loses:48\n",
      "Draws:27\n"
     ]
    }
   ],
   "source": [
    "svc_acc = get_accs(svc)\n",
    "print(np.mean(svc_acc))\n",
    "print(rocket.mean())\n",
    "print('ROCKET vs MetaL-SVM')\n",
    "print('ROCKET Wins:' + str(np.sum(rocket > svc_acc)))\n",
    "print('ROCKET Loses:' + str(np.sum(rocket < svc_acc)))\n",
    "print('Draws:' + str(np.sum(rocket == svc_acc)))"
   ]
  },
  {
   "cell_type": "code",
   "execution_count": 26,
   "id": "76e50538",
   "metadata": {},
   "outputs": [
    {
     "name": "stdout",
     "output_type": "stream",
     "text": [
      "Algorithm\tWins/Losses\n",
      "ROCKET\t83/24\n",
      "ResNet\t58/49\n",
      "WEASEL\t48/59\n",
      "BOSS\t36/71\n",
      "S-BOSS\t39/68\n",
      "ProximityForest\t54/53\n",
      "InceptionTime\t81/26\n",
      "TS-CHIEF\t87/20\n",
      "STC\t57/50\n",
      "HIVE-COTE v1.0\t94/13\n",
      "MetaL-CATS-SVM\t91/16\n"
     ]
    }
   ],
   "source": [
    "accs = test_acc.drop('TESTACC',axis=1)\n",
    "\n",
    "svc_acc = get_accs(svc)\n",
    "print('Algorithm\\tWins/Losses')\n",
    "\n",
    "# cada um contra baseline\n",
    "for  this_alg in accs.keys():\n",
    "    this_acc = test_acc[this_alg]\n",
    "    print(this_alg + '\\t' + str(np.sum(this_acc > baseline)) + '/' +\n",
    "        str(np.sum(this_acc < baseline)))\n",
    "    \n",
    "print('MetaL-CATS-SVM\\t' + str(np.sum(svc_acc > baseline)) + '/' +\n",
    "        str(np.sum(svc_acc < baseline)))"
   ]
  },
  {
   "cell_type": "code",
   "execution_count": 27,
   "id": "aeead2a2",
   "metadata": {},
   "outputs": [
    {
     "data": {
      "text/plain": [
       "<Figure size 720x720 with 0 Axes>"
      ]
     },
     "metadata": {},
     "output_type": "display_data"
    },
    {
     "data": {
      "image/png": "[encoded data removed]",
      "text/plain": [
       "<Figure size 288x288 with 2 Axes>"
      ]
     },
     "metadata": {},
     "output_type": "display_data"
    }
   ],
   "source": [
    "from sklearn.metrics import confusion_matrix\n",
    "\n",
    "def plot_confusion_matrix(df_confusion, title='Confusion matrix'):\n",
    "    f = plt.figure(figsize=[10,10])\n",
    "    plt.matshow(df_confusion, cmap=\"Blues\") # imshow\n",
    "    #plt.title(title)\n",
    "    plt.colorbar()\n",
    "    tick_marks = np.arange(len(df_confusion.columns))\n",
    "    plt.xticks(tick_marks, df_confusion.columns, rotation=90)\n",
    "    plt.yticks(tick_marks, df_confusion.columns)\n",
    "    #plt.tight_layout()\n",
    "    plt.ylabel(df_confusion.index.name)\n",
    "    plt.xlabel(df_confusion.columns.name)\n",
    "    plt.savefig(\"confusion.pdf\")\n",
    "    \n",
    "df_confusion = pd.DataFrame(confusion_matrix(y, svc), columns=list(test_acc.keys())[1:])\n",
    "plot_confusion_matrix(df_confusion)"
   ]
  },
  {
   "cell_type": "code",
   "execution_count": 28,
   "id": "4b1b072f",
   "metadata": {},
   "outputs": [
    {
     "data": {
      "text/html": [
       "<div>\n",
       "<style scoped>\n",
       "    .dataframe tbody tr th:only-of-type {\n",
       "        vertical-align: middle;\n",
       "    }\n",
       "\n",
       "    .dataframe tbody tr th {\n",
       "        vertical-align: top;\n",
       "    }\n",
       "\n",
       "    .dataframe thead th {\n",
       "        text-align: right;\n",
       "    }\n",
       "</style>\n",
       "<table border=\"1\" class=\"dataframe\">\n",
       "  <thead>\n",
       "    <tr style=\"text-align: right;\">\n",
       "      <th></th>\n",
       "      <th>ROCKET</th>\n",
       "      <th>ResNet</th>\n",
       "      <th>WEASEL</th>\n",
       "      <th>BOSS</th>\n",
       "      <th>S-BOSS</th>\n",
       "      <th>ProximityForest</th>\n",
       "      <th>InceptionTime</th>\n",
       "      <th>TS-CHIEF</th>\n",
       "      <th>STC</th>\n",
       "      <th>HIVE-COTE v1.0</th>\n",
       "    </tr>\n",
       "  </thead>\n",
       "  <tbody>\n",
       "    <tr>\n",
       "      <th>0</th>\n",
       "      <td>9</td>\n",
       "      <td>1</td>\n",
       "      <td>0</td>\n",
       "      <td>0</td>\n",
       "      <td>0</td>\n",
       "      <td>0</td>\n",
       "      <td>4</td>\n",
       "      <td>8</td>\n",
       "      <td>1</td>\n",
       "      <td>0</td>\n",
       "    </tr>\n",
       "    <tr>\n",
       "      <th>1</th>\n",
       "      <td>2</td>\n",
       "      <td>1</td>\n",
       "      <td>0</td>\n",
       "      <td>0</td>\n",
       "      <td>0</td>\n",
       "      <td>1</td>\n",
       "      <td>0</td>\n",
       "      <td>5</td>\n",
       "      <td>0</td>\n",
       "      <td>1</td>\n",
       "    </tr>\n",
       "    <tr>\n",
       "      <th>2</th>\n",
       "      <td>2</td>\n",
       "      <td>0</td>\n",
       "      <td>0</td>\n",
       "      <td>0</td>\n",
       "      <td>0</td>\n",
       "      <td>0</td>\n",
       "      <td>0</td>\n",
       "      <td>0</td>\n",
       "      <td>0</td>\n",
       "      <td>1</td>\n",
       "    </tr>\n",
       "    <tr>\n",
       "      <th>3</th>\n",
       "      <td>0</td>\n",
       "      <td>0</td>\n",
       "      <td>0</td>\n",
       "      <td>0</td>\n",
       "      <td>0</td>\n",
       "      <td>0</td>\n",
       "      <td>1</td>\n",
       "      <td>0</td>\n",
       "      <td>0</td>\n",
       "      <td>2</td>\n",
       "    </tr>\n",
       "    <tr>\n",
       "      <th>4</th>\n",
       "      <td>2</td>\n",
       "      <td>1</td>\n",
       "      <td>0</td>\n",
       "      <td>0</td>\n",
       "      <td>0</td>\n",
       "      <td>0</td>\n",
       "      <td>0</td>\n",
       "      <td>1</td>\n",
       "      <td>1</td>\n",
       "      <td>0</td>\n",
       "    </tr>\n",
       "    <tr>\n",
       "      <th>5</th>\n",
       "      <td>1</td>\n",
       "      <td>2</td>\n",
       "      <td>0</td>\n",
       "      <td>0</td>\n",
       "      <td>0</td>\n",
       "      <td>0</td>\n",
       "      <td>1</td>\n",
       "      <td>0</td>\n",
       "      <td>0</td>\n",
       "      <td>1</td>\n",
       "    </tr>\n",
       "    <tr>\n",
       "      <th>6</th>\n",
       "      <td>4</td>\n",
       "      <td>0</td>\n",
       "      <td>0</td>\n",
       "      <td>0</td>\n",
       "      <td>0</td>\n",
       "      <td>0</td>\n",
       "      <td>7</td>\n",
       "      <td>3</td>\n",
       "      <td>0</td>\n",
       "      <td>2</td>\n",
       "    </tr>\n",
       "    <tr>\n",
       "      <th>7</th>\n",
       "      <td>4</td>\n",
       "      <td>4</td>\n",
       "      <td>0</td>\n",
       "      <td>0</td>\n",
       "      <td>1</td>\n",
       "      <td>0</td>\n",
       "      <td>2</td>\n",
       "      <td>9</td>\n",
       "      <td>2</td>\n",
       "      <td>1</td>\n",
       "    </tr>\n",
       "    <tr>\n",
       "      <th>8</th>\n",
       "      <td>1</td>\n",
       "      <td>0</td>\n",
       "      <td>0</td>\n",
       "      <td>1</td>\n",
       "      <td>0</td>\n",
       "      <td>0</td>\n",
       "      <td>0</td>\n",
       "      <td>4</td>\n",
       "      <td>0</td>\n",
       "      <td>1</td>\n",
       "    </tr>\n",
       "    <tr>\n",
       "      <th>9</th>\n",
       "      <td>2</td>\n",
       "      <td>3</td>\n",
       "      <td>1</td>\n",
       "      <td>1</td>\n",
       "      <td>0</td>\n",
       "      <td>1</td>\n",
       "      <td>0</td>\n",
       "      <td>3</td>\n",
       "      <td>1</td>\n",
       "      <td>1</td>\n",
       "    </tr>\n",
       "  </tbody>\n",
       "</table>\n",
       "</div>"
      ],
      "text/plain": [
       "   ROCKET  ResNet  WEASEL  BOSS  S-BOSS  ProximityForest  InceptionTime  \\\n",
       "0       9       1       0     0       0                0              4   \n",
       "1       2       1       0     0       0                1              0   \n",
       "2       2       0       0     0       0                0              0   \n",
       "3       0       0       0     0       0                0              1   \n",
       "4       2       1       0     0       0                0              0   \n",
       "5       1       2       0     0       0                0              1   \n",
       "6       4       0       0     0       0                0              7   \n",
       "7       4       4       0     0       1                0              2   \n",
       "8       1       0       0     1       0                0              0   \n",
       "9       2       3       1     1       0                1              0   \n",
       "\n",
       "   TS-CHIEF  STC  HIVE-COTE v1.0  \n",
       "0         8    1               0  \n",
       "1         5    0               1  \n",
       "2         0    0               1  \n",
       "3         0    0               2  \n",
       "4         1    1               0  \n",
       "5         0    0               1  \n",
       "6         3    0               2  \n",
       "7         9    2               1  \n",
       "8         4    0               1  \n",
       "9         3    1               1  "
      ]
     },
     "execution_count": 28,
     "metadata": {},
     "output_type": "execute_result"
    }
   ],
   "source": [
    "df_confusion"
   ]
  },
  {
   "cell_type": "code",
   "execution_count": 29,
   "id": "e06c0883",
   "metadata": {},
   "outputs": [
    {
     "data": {
      "text/plain": [
       "['ROCKET',\n",
       " 'ResNet',\n",
       " 'WEASEL',\n",
       " 'BOSS',\n",
       " 'S-BOSS',\n",
       " 'ProximityForest',\n",
       " 'InceptionTime',\n",
       " 'TS-CHIEF',\n",
       " 'STC']"
      ]
     },
     "execution_count": 29,
     "metadata": {},
     "output_type": "execute_result"
    }
   ],
   "source": [
    "list(test_acc.keys())[1:-1]"
   ]
  },
  {
   "cell_type": "markdown",
   "id": "ed80d635",
   "metadata": {},
   "source": [
    "## Hypothesis test"
   ]
  },
  {
   "cell_type": "code",
   "execution_count": 30,
   "id": "cf6fe0d2",
   "metadata": {},
   "outputs": [],
   "source": [
    "# !pip install Orange3\n",
    "import Orange "
   ]
  },
  {
   "cell_type": "code",
   "execution_count": 34,
   "id": "6ca6818f",
   "metadata": {},
   "outputs": [
    {
     "data": {
      "image/png": "[encoded data removed]",
      "text/plain": [
       "<Figure size 504x118.8 with 1 Axes>"
      ]
     },
     "metadata": {},
     "output_type": "display_data"
    }
   ],
   "source": [
    "dicio = {\"MetaL-CATS-1NN\" : get_accs(nn), \n",
    "         \"MetaL-CATS-5NN\" : get_accs(knn),\n",
    "         \"MetaL-CATS-NB\" : get_accs(nb),\n",
    "         \"MetaL-CATS-RF\" : rf_avg,\n",
    "         \"MetaL-CATS-SVM\" : get_accs(svc)}\n",
    "\n",
    "dicio = pd.DataFrame(dicio)\n",
    "\n",
    "avranks = dicio.rank(axis=1,ascending=False).mean().values\n",
    "cd = Orange.evaluation.compute_CD(avranks, dicio.shape[0], \n",
    "                                  alpha=\"0.05\", test=\"nemenyi\")\n",
    "\n",
    "Orange.evaluation.graph_ranks(avranks, dicio.keys(), \n",
    "                              cd=cd, width=7, textspace=1.5)\n",
    "plt.savefig('nemenyi_metalcats.pdf', bbox_inches='tight')\n",
    "plt.show();"
   ]
  },
  {
   "cell_type": "code",
   "execution_count": 32,
   "id": "ce714f84",
   "metadata": {},
   "outputs": [
    {
     "data": {
      "image/png": "[encoded data removed]",
      "text/plain": [
       "<Figure size 576x169.2 with 1 Axes>"
      ]
     },
     "metadata": {},
     "output_type": "display_data"
    }
   ],
   "source": [
    "dicio = test_acc.drop('TESTACC',axis=1)\n",
    "dicio[\"MetaL-CATS-SVM\"] = get_accs(svc)\n",
    "# dicio[\"Baseline\"] = baseline\n",
    "# dicio[\"Topline\"] = topline\n",
    "\n",
    "avranks = dicio.rank(axis=1,ascending=False).mean().values\n",
    "cd = Orange.evaluation.compute_CD(avranks, dicio.shape[0]-1, \n",
    "                                  alpha=\"0.05\", test=\"nemenyi\")\n",
    "\n",
    "Orange.evaluation.graph_ranks(avranks, dicio.keys(), \n",
    "                              cd=cd, width=8, textspace=1.5)\n",
    "plt.savefig('nemenyi.pdf', bbox_inches='tight')\n",
    "plt.show();"
   ]
  },
  {
   "cell_type": "code",
   "execution_count": 33,
   "id": "a39fbd0d",
   "metadata": {},
   "outputs": [
    {
     "data": {
      "image/png": "[encoded data removed]",
      "text/plain": [
       "<Figure size 576x205.2 with 1 Axes>"
      ]
     },
     "metadata": {},
     "output_type": "display_data"
    }
   ],
   "source": [
    "dicio = test_acc.drop('TESTACC',axis=1)\n",
    "dicio[\"MetaL-CATS-1NN\"] = get_accs(nn)\n",
    "dicio[\"MetaL-CATS-5NN\"] = get_accs(knn)\n",
    "dicio[\"MetaL-CATS-SVM\"] = get_accs(svc)\n",
    "dicio[\"MetaL-CATS-NB\"] = get_accs(nb)\n",
    "dicio[\"MetaL-CATS-RF\"] = rf_avg\n",
    "\n",
    "avranks = dicio.rank(axis=1,ascending=False).mean().values\n",
    "cd = Orange.evaluation.compute_CD(avranks, dicio.shape[0]-1, \n",
    "                                  alpha=\"0.05\", test=\"nemenyi\")\n",
    "\n",
    "Orange.evaluation.graph_ranks(avranks, dicio.keys(), \n",
    "                              cd=cd, width=8, textspace=1.5)\n",
    "plt.savefig('nemenyi.pdf', bbox_inches='tight')\n",
    "plt.show();"
   ]
  }
 ],
 "metadata": {
  "kernelspec": {
   "display_name": "Python 3 (ipykernel)",
   "language": "python",
   "name": "python3"
  },
  "language_info": {
   "codemirror_mode": {
    "name": "ipython",
    "version": 3
   },
   "file_extension": ".py",
   "mimetype": "text/x-python",
   "name": "python",
   "nbconvert_exporter": "python",
   "pygments_lexer": "ipython3",
   "version": "3.8.10"
  }
 },
 "nbformat": 4,
 "nbformat_minor": 5
}
