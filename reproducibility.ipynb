{
 "cells": [
  {
   "cell_type": "code",
   "execution_count": null,
   "id": "a7d8f660",
   "metadata": {},
   "outputs": [],
   "source": [
    "import numpy as np\n",
    "import matplotlib.pyplot as plt\n",
    "import pandas as pd\n",
    "import seaborn as sns\n",
    "import timeit\n",
    "\n",
    "from numpy import genfromtxt\n",
    "\n",
    "from sklearn.model_selection import LeaveOneOut\n",
    "\n",
    "from sklearn import svm\n",
    "from sklearn.ensemble import GradientBoostingClassifier\n",
    "from sklearn.ensemble import RandomForestClassifier\n",
    "from sklearn import neighbors\n",
    "from sklearn.naive_bayes import GaussianNB"
   ]
  },
  {
   "cell_type": "markdown",
   "id": "64ea4c63",
   "metadata": {},
   "source": [
    "### From the test_acc.csv (edited from the results obtained from timeseriesclassification.com) and the features extracted from the training datasets using tsfresh (use the run_pre_tsfresh.sh to obtain it), we organize the meta-data in this section."
   ]
  },
  {
   "cell_type": "code",
   "execution_count": null,
   "id": "a4f7ed7c",
   "metadata": {},
   "outputs": [],
   "source": [
    "test_acc = pd.read_csv('test_acc.csv')\n",
    "test_acc.head()"
   ]
  },
  {
   "cell_type": "code",
   "execution_count": null,
   "id": "fb683e3a",
   "metadata": {},
   "outputs": [],
   "source": [
    "y = np.array(test_acc.drop('TESTACC',axis=1)).argmax(axis=1)+1 # meta-targets"
   ]
  },
  {
   "cell_type": "code",
   "execution_count": null,
   "id": "d8301615",
   "metadata": {},
   "outputs": [],
   "source": [
    "X = np.empty([108,3148]) # meta-attributes\n",
    "\n",
    "for i in range(len(y)):\n",
    "    \n",
    "    dataset = test_acc['TESTACC'][i]\n",
    "    print(dataset)\n",
    "    \n",
    "    this_feature_set = pd.read_csv('tsfresh/' + dataset + '_TRAIN.csv').drop(labels=[\"Unnamed: 0\"],axis=1)\n",
    "    X[i] = np.hstack([this_feature_set.mean(axis=0),this_feature_set.std(axis=0)])"
   ]
  },
  {
   "cell_type": "code",
   "execution_count": null,
   "id": "c7988f06",
   "metadata": {},
   "outputs": [],
   "source": [
    "np.savetxt(\"meta-attributes.csv\", X, delimiter=\",\")\n",
    "np.savetxt(\"meta-targets.csv\", y, delimiter=\",\")"
   ]
  },
  {
   "cell_type": "markdown",
   "id": "301b1dd1",
   "metadata": {},
   "source": [
    "### Start here if you already have extracted the meta-knowledge. "
   ]
  },
  {
   "cell_type": "code",
   "execution_count": null,
   "id": "705f06a3",
   "metadata": {},
   "outputs": [],
   "source": [
    "# X = genfromtxt('meta-attributes.csv', delimiter=',')\n",
    "# y = genfromtxt('meta-targets.csv', delimiter=',')\n",
    "\n",
    "df = pd.DataFrame(X)\n",
    "X = df.replace([np.inf, -np.inf], np.nan).dropna(axis=1).to_numpy() #cleaning"
   ]
  },
  {
   "cell_type": "markdown",
   "id": "858bd8d4",
   "metadata": {},
   "source": [
    "#### Defining useful methods"
   ]
  },
  {
   "cell_type": "code",
   "execution_count": null,
   "id": "5667b9f6",
   "metadata": {},
   "outputs": [],
   "source": [
    "def show_results(preds):\n",
    "    \n",
    "    test_acc = pd.read_csv('test_acc.csv')\n",
    "    topline = np.array(test_acc.drop('TESTACC',axis=1)).max(axis=1)\n",
    "    baseline = np.array(test_acc.drop('TESTACC',axis=1)).mean(axis=1)\n",
    "    \n",
    "    accs_meta = []\n",
    "    for i in range(len(preds)):\n",
    "        accs_meta.append(test_acc.iloc[i][int(preds[i])])\n",
    "        \n",
    "    ts_chief = test_acc['TS-CHIEF']\n",
    "    \n",
    "    print('Mean Acc (std):')\n",
    "    \n",
    "    print('Topline: ' + \"{:.4f}\".format(np.mean(topline)) +\n",
    "         '(' + \"{:.4f}\".format(np.std(topline)) + ')' + \n",
    "         ' - Median =' + \"{:.4f}\".format(np.median(topline)))\n",
    "    \n",
    "    print('MetaL: ' + \"{:.4f}\".format(np.mean(accs_meta)) +\n",
    "         '(' + \"{:.4f}\".format(np.std(accs_meta)) + ')' + \n",
    "         ' - Median =' + \"{:.4f}\".format(np.median(accs_meta)))\n",
    "    \n",
    "    print('TS-CHIEF: ' + \"{:.4f}\".format(np.mean(ts_chief)) +\n",
    "         '(' + \"{:.4f}\".format(np.std(ts_chief)) + ')' + \n",
    "         ' - Median =' + \"{:.4f}\".format(np.median(ts_chief)))\n",
    "    \n",
    "    print(' ')\n",
    "    \n",
    "    print('MetaL vs TS-CHIEF')\n",
    "    print('Wins:' + str(np.sum(accs_meta > ts_chief)))\n",
    "    print('Loses:' + str(np.sum(accs_meta < ts_chief)))\n",
    "    print('Draws:' + str(np.sum(accs_meta == ts_chief)))\n",
    "    \n",
    "    print(' ')\n",
    "    \n",
    "    print('MetaL vs topline')\n",
    "    print('Wins:' + str(np.sum(accs_meta > topline)))\n",
    "    print('Loses:' + str(np.sum(accs_meta < topline)))\n",
    "    print('Draws:' + str(np.sum(accs_meta == topline)))\n",
    "    \n",
    "    print(' ')\n",
    "    \n",
    "    print('MetaL vs baseline')\n",
    "    print('Wins:' + str(np.sum(accs_meta > baseline)))\n",
    "    print('Loses:' + str(np.sum(accs_meta < baseline)))\n",
    "    print('Draws:' + str(np.sum(accs_meta == baseline)))"
   ]
  },
  {
   "cell_type": "code",
   "execution_count": null,
   "id": "71f784c1",
   "metadata": {},
   "outputs": [],
   "source": [
    "def run_metamodel(option='random_forest', random_state=42):\n",
    "    \n",
    "    preds = []\n",
    "    \n",
    "    loo = LeaveOneOut()\n",
    "    loo.get_n_splits(X)\n",
    "    \n",
    "    total_time = 0\n",
    "    \n",
    "    for train_index, test_index in loo.split(X):\n",
    "        \n",
    "        # print(\"TEST:\", test_index)\n",
    "        X_train, X_test = X[train_index], X[test_index]\n",
    "        y_train, y_test = y[train_index], y[test_index]\n",
    "        \n",
    "        if (option=='1nn'):\n",
    "            model = neighbors.KNeighborsClassifier(1)\n",
    "        elif (option=='5nn'):\n",
    "            model = neighbors.KNeighborsClassifier()\n",
    "        elif (option=='svm'):\n",
    "            model = svm.SVC()\n",
    "        elif (option=='gbc'):\n",
    "            model = GradientBoostingClassifier(random_state=random_state)\n",
    "        elif (option=='nb'):\n",
    "            model = GaussianNB()\n",
    "        else:\n",
    "            model = RandomForestClassifier(random_state=random_state)\n",
    "            \n",
    "        start = timeit.default_timer()\n",
    "        model.fit(X_train, y_train)\n",
    "        stop = timeit.default_timer()\n",
    "        total_time += stop - start\n",
    "        \n",
    "        y_hat = model.predict(X_test)\n",
    "        preds.append(y_hat)\n",
    "    \n",
    "    print('LOO runtime (seconds): ', total_time)\n",
    "    \n",
    "    return preds"
   ]
  },
  {
   "cell_type": "markdown",
   "id": "6eecf95e",
   "metadata": {},
   "source": [
    "#### Runing/training the metamodels"
   ]
  },
  {
   "cell_type": "code",
   "execution_count": null,
   "id": "f897ab80",
   "metadata": {},
   "outputs": [],
   "source": [
    "rf = []\n",
    "rf_fs = []\n",
    "\n",
    "\n",
    "print('MetaL-CATS-1NN')\n",
    "nn = run_metamodel(option='1nn')\n",
    "\n",
    "print('MetaL-CATS-5NN')\n",
    "knn = run_metamodel(option='5nn')\n",
    "\n",
    "print('MetaL-CATS-SVM')\n",
    "svc = run_metamodel(option='svc')\n",
    "\n",
    "print('MetaL-CATS-NB')\n",
    "nb = run_metamodel(option='nb')\n",
    "\n",
    "\n",
    "print('MetaL-CATS-RF (10 runs)')\n",
    "for i in range(10):\n",
    "    print('RF: Random seed = ' + str(i))\n",
    "    rf.append(run_metamodel(option='random_forest', random_state=i))"
   ]
  },
  {
   "cell_type": "code",
   "execution_count": null,
   "id": "79e040a1",
   "metadata": {},
   "outputs": [],
   "source": [
    "'''\n",
    "run it if you are interested in saving the results\n",
    "'''\n",
    "# np.save('results/rf.npy',rf)\n",
    "# np.save('results/nn.npy',nn)\n",
    "# np.save('results/knn.npy',knn)\n",
    "# np.save('results/svc.npy',svc)\n",
    "# np.save('results/nb.npy',nb)"
   ]
  },
  {
   "cell_type": "code",
   "execution_count": null,
   "id": "9b785262",
   "metadata": {},
   "outputs": [],
   "source": [
    "'''\n",
    "run it if you are interested in strating from the saved results\n",
    "'''\n",
    "# np.save('results/rf.npy',rf)\n",
    "# np.save('results/nn.npy',nn)\n",
    "# np.save('results/knn.npy',knn)\n",
    "# np.save('results/svc.npy',svc)\n",
    "# np.save('results/nb.npy',nb)"
   ]
  },
  {
   "cell_type": "code",
   "execution_count": null,
   "id": "42712bce",
   "metadata": {
    "scrolled": false
   },
   "outputs": [],
   "source": [
    "print('------------\\n1-nn\\n')\n",
    "show_results(nn)\n",
    "print('------------\\n5-nn\\n')\n",
    "show_results(knn)\n",
    "print('------------\\nGaussian NB\\n')\n",
    "show_results(nb)\n",
    "print('------------\\nSVM\\n')\n",
    "show_results(svc)\n",
    "print('------------\\nRF (seed=0)\\n')\n",
    "show_results(rf[0])\n",
    "print('------------')"
   ]
  },
  {
   "cell_type": "code",
   "execution_count": null,
   "id": "06b8ee47",
   "metadata": {},
   "outputs": [],
   "source": [
    "\n",
    "\n"
   ]
  },
  {
   "cell_type": "markdown",
   "id": "8d54743c",
   "metadata": {},
   "source": [
    "#### Comparative and ploting routines"
   ]
  },
  {
   "cell_type": "code",
   "execution_count": null,
   "id": "78ad7f83",
   "metadata": {},
   "outputs": [],
   "source": [
    "topline = np.array(test_acc.drop('TESTACC',axis=1)).max(axis=1)\n",
    "baseline = np.array(test_acc.drop('TESTACC',axis=1)).mean(axis=1)\n",
    "worstcase = np.array(test_acc.drop('TESTACC',axis=1)).min(axis=1)\n",
    "\n",
    "ts_chief = test_acc['TS-CHIEF']\n",
    "hive_cote = test_acc['HIVE-COTE v1.0']\n",
    "\n",
    "def get_accs(preds):\n",
    "    accs_meta = []\n",
    "    for i in range(len(preds)):\n",
    "        accs_meta.append(test_acc.iloc[i][int(preds[i])])\n",
    "        \n",
    "    return accs_meta"
   ]
  },
  {
   "cell_type": "code",
   "execution_count": null,
   "id": "a3c21ead",
   "metadata": {},
   "outputs": [],
   "source": [
    "# to a better evaluation of RF\n",
    "rf_avg = np.zeros(108)\n",
    "for i in range(10):\n",
    "    rf_avg += get_accs(rf[i])\n",
    "rf_avg /= 10\n",
    "\n",
    "print(np.mean(rf_avg))\n",
    "print(np.std(rf_avg))\n",
    "print(np.median(rf_avg))\n",
    "print('TS-CHIEF vs MetaL-RF')\n",
    "print('Wins:' + str(np.sum(ts_chief > rf_avg)))\n",
    "print('Loses:' + str(np.sum(ts_chief < rf_avg)))\n",
    "print('Draws:' + str(np.sum(ts_chief == rf_avg)))"
   ]
  },
  {
   "cell_type": "code",
   "execution_count": null,
   "id": "9ae598f7",
   "metadata": {},
   "outputs": [],
   "source": [
    "dicio = {\"Accuracy\" : np.hstack((baseline, get_accs(nn), \n",
    "                                 get_accs(knn), get_accs(nb),\n",
    "                                 rf_avg,get_accs(svc),\n",
    "                                 ts_chief,topline)).T,\n",
    "        \"Algorithm\" : np.hstack((\n",
    "                        [\"Baseline\"]*len(topline),\n",
    "                        [\"MetaL-CATS-1NN\"]*len(topline), \n",
    "                        [\"MetaL-CATS-5NN\"]*len(topline), \n",
    "                        [\"MetaL-CATS-NB\"]*len(topline),\n",
    "                        [\"MetaL-CATS-RF\"]*len(topline), \n",
    "                        [\"MetaL-CATS-SVM\"]*len(topline), \n",
    "                        [\"TS-CHIEF\"]*len(topline),\n",
    "                        [\"Topline\"]*len(topline)\n",
    "                                )).T}\n",
    "\n",
    "results = pd.DataFrame(dicio)"
   ]
  },
  {
   "cell_type": "code",
   "execution_count": null,
   "id": "da87605c",
   "metadata": {},
   "outputs": [],
   "source": [
    "f = plt.figure(figsize=[8,7])\n",
    "sns.set_theme(style=\"whitegrid\")\n",
    "ax = sns.boxplot(x=\"Algorithm\", y=\"Accuracy\", data=results)\n",
    "plt.xticks(rotation=90)\n",
    "f.savefig(\"boxplot.pdf\")"
   ]
  },
  {
   "cell_type": "code",
   "execution_count": null,
   "id": "d62490a0",
   "metadata": {},
   "outputs": [],
   "source": [
    "# TS-CHIEF vs HIVE-COTE\n",
    "print(hive_cote.mean())\n",
    "print(ts_chief.mean())\n",
    "\n",
    "print('TS-CHIEF vs HIVE-COTE')\n",
    "print('Wins:' + str(np.sum(ts_chief > hive_cote)))\n",
    "print('Loses:' + str(np.sum(ts_chief < hive_cote)))\n",
    "print('Draws:' + str(np.sum(ts_chief == hive_cote)))"
   ]
  },
  {
   "cell_type": "code",
   "execution_count": null,
   "id": "2cb3997f",
   "metadata": {},
   "outputs": [],
   "source": [
    "svc_acc = get_accs(svc)\n",
    "print(np.mean(svc_acc))\n",
    "print('TS-CHIEF vs MetaL-SVM')\n",
    "print('Wins:' + str(np.sum(ts_chief > svc_acc)))\n",
    "print('Loses:' + str(np.sum(ts_chief < svc_acc)))\n",
    "print('Draws:' + str(np.sum(ts_chief == svc_acc)))"
   ]
  },
  {
   "cell_type": "code",
   "execution_count": null,
   "id": "76e50538",
   "metadata": {},
   "outputs": [],
   "source": [
    "accs = test_acc.drop('TESTACC',axis=1)\n",
    "\n",
    "svc_acc = get_accs(svc)\n",
    "print('Algorithm\\tWins/Losses')\n",
    "\n",
    "# cada um contra baseline\n",
    "for  this_alg in accs.keys():\n",
    "    this_acc = test_acc[this_alg]\n",
    "    print(this_alg + '\\t' + str(np.sum(this_acc > baseline)) + '/' +\n",
    "        str(np.sum(this_acc < baseline)))\n",
    "    \n",
    "print('MetaL-CATS-SVM\\t' + str(np.sum(svc_acc > baseline)) + '/' +\n",
    "        str(np.sum(svc_acc < baseline)))"
   ]
  },
  {
   "cell_type": "code",
   "execution_count": null,
   "id": "aeead2a2",
   "metadata": {},
   "outputs": [],
   "source": [
    "from sklearn.metrics import confusion_matrix\n",
    "\n",
    "def plot_confusion_matrix(df_confusion, title='Confusion matrix'):\n",
    "    f = plt.figure(figsize=[10,10])\n",
    "    plt.matshow(df_confusion, cmap=\"Blues\") # imshow\n",
    "    #plt.title(title)\n",
    "    plt.colorbar()\n",
    "    tick_marks = np.arange(len(df_confusion.columns))\n",
    "    plt.xticks(tick_marks, df_confusion.columns, rotation=90)\n",
    "    plt.yticks(tick_marks, df_confusion.columns)\n",
    "    #plt.tight_layout()\n",
    "    plt.ylabel(df_confusion.index.name)\n",
    "    plt.xlabel(df_confusion.columns.name)\n",
    "    plt.savefig(\"confusion.pdf\")\n",
    "    \n",
    "df_confusion = pd.DataFrame(confusion_matrix(y, svc), columns=list(test_acc.keys())[1:-1])\n",
    "plot_confusion_matrix(df_confusion)"
   ]
  },
  {
   "cell_type": "markdown",
   "id": "ed80d635",
   "metadata": {},
   "source": [
    "## Hypothesis test"
   ]
  },
  {
   "cell_type": "code",
   "execution_count": null,
   "id": "cf6fe0d2",
   "metadata": {},
   "outputs": [],
   "source": [
    "# !pip install Orange3\n",
    "import Orange "
   ]
  },
  {
   "cell_type": "code",
   "execution_count": null,
   "id": "6ca6818f",
   "metadata": {},
   "outputs": [],
   "source": [
    "dicio = {\"MetaL-CATS-1NN\" : get_accs(nn), \n",
    "         \"MetaL-CATS-5NN\" : get_accs(knn),\n",
    "         \"MetaL-CATS-NB\" : get_accs(nb),\n",
    "         \"MetaL-CATS-RF\" : rf_avg,\n",
    "         \"MetaL-CATS-SVM\" : get_accs(svc), \n",
    "         \"TS-CHIEF\" : ts_chief}\n",
    "\n",
    "dicio = pd.DataFrame(dicio)\n",
    "\n",
    "avranks = dicio.rank(axis=1,ascending=False).mean().values\n",
    "cd = Orange.evaluation.compute_CD(avranks, dicio.shape[0], \n",
    "                                  alpha=\"0.05\", test=\"nemenyi\")\n",
    "\n",
    "Orange.evaluation.graph_ranks(avranks, dicio.keys(), \n",
    "                              cd=cd, width=7, textspace=1.5)\n",
    "plt.savefig('nemenyi_metalcats.pdf', bbox_inches='tight')\n",
    "plt.show();"
   ]
  },
  {
   "cell_type": "code",
   "execution_count": null,
   "id": "ce714f84",
   "metadata": {},
   "outputs": [],
   "source": [
    "dicio = {\"ROCKET\" : test_acc['ROCKET'],\n",
    "         \"HIVE-COTE v1.0\": test_acc['HIVE-COTE v1.0'],\n",
    "         \"Catch22\" : test_acc['Catch22'],\n",
    "         \"MetaL-RF\" : rf_avg,\n",
    "         \"MetaL-SVM\" : get_accs(svc), \n",
    "         \"TS-CHIEF\" : ts_chief}\n",
    "\n",
    "dicio = pd.DataFrame(dicio)\n",
    "\n",
    "dicio = test_acc.drop('TESTACC',axis=1)\n",
    "dicio[\"MetaL-CATS-SVM\"] = get_accs(svc)\n",
    "# dicio[\"Baseline\"] = baseline\n",
    "# dicio[\"Topline\"] = topline\n",
    "\n",
    "avranks = dicio.rank(axis=1,ascending=False).mean().values\n",
    "cd = Orange.evaluation.compute_CD(avranks, dicio.shape[0]-1, \n",
    "                                  alpha=\"0.05\", test=\"nemenyi\")\n",
    "\n",
    "Orange.evaluation.graph_ranks(avranks, dicio.keys(), \n",
    "                              cd=cd, width=8, textspace=1.5)\n",
    "plt.savefig('nemenyi.pdf', bbox_inches='tight')\n",
    "plt.show();"
   ]
  }
 ],
 "metadata": {
  "kernelspec": {
   "display_name": "Python 3",
   "language": "python",
   "name": "python3"
  },
  "language_info": {
   "codemirror_mode": {
    "name": "ipython",
    "version": 3
   },
   "file_extension": ".py",
   "mimetype": "text/x-python",
   "name": "python",
   "nbconvert_exporter": "python",
   "pygments_lexer": "ipython3",
   "version": "3.8.10"
  }
 },
 "nbformat": 4,
 "nbformat_minor": 5
}
